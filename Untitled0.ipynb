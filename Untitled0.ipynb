{
  "nbformat": 4,
  "nbformat_minor": 0,
  "metadata": {
    "colab": {
      "provenance": [],
      "authorship_tag": "ABX9TyMvqe5UpV7zFRkLPbYIz84g",
      "include_colab_link": true
    },
    "kernelspec": {
      "name": "python3",
      "display_name": "Python 3"
    },
    "language_info": {
      "name": "python"
    }
  },
  "cells": [
    {
      "cell_type": "markdown",
      "metadata": {
        "id": "view-in-github",
        "colab_type": "text"
      },
      "source": [
        "<a href=\"https://colab.research.google.com/github/Pooja-Bsc/Rathod/blob/main/Untitled0.ipynb\" target=\"_parent\"><img src=\"https://colab.research.google.com/assets/colab-badge.svg\" alt=\"Open In Colab\"/></a>"
      ]
    },
    {
      "cell_type": "code",
      "execution_count": null,
      "metadata": {
        "colab": {
          "base_uri": "https://localhost:8080/"
        },
        "id": "1Z8ye3-AvEgH",
        "outputId": "e7af6b65-8d2a-4778-91a8-b0eda801b837"
      },
      "outputs": [
        {
          "output_type": "stream",
          "name": "stdout",
          "text": [
            "Enter the dod of birt2000\n",
            "Eligible to vote\n"
          ]
        }
      ],
      "source": [
        "A=int(input(\"Enter the dod of birt\"))\n",
        "age=2025-A\n",
        "if(age>=18):\n",
        "  print(\"Eligible to vote\")\n",
        "else:\n",
        "  print(\"not eligible\")"
      ]
    }
  ]
}